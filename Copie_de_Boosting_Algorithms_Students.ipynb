{
  "cells": [
    {
      "cell_type": "markdown",
      "metadata": {
        "id": "v3F3SASUTPgx"
      },
      "source": [
        "## Coding Exercise #0314"
      ]
    },
    {
      "cell_type": "markdown",
      "metadata": {
        "id": "fMAUxVmyTPg3"
      },
      "source": [
        "### 1. Bagging ensemble:"
      ]
    },
    {
      "cell_type": "code",
      "execution_count": 40,
      "metadata": {
        "id": "GMwhdcH3TPg4",
        "colab": {
          "base_uri": "https://localhost:8080/"
        },
        "outputId": "adfe0e26-3547-4883-dc49-665c03807a4b"
      },
      "outputs": [
        {
          "output_type": "stream",
          "name": "stdout",
          "text": [
            "Looking in indexes: https://pypi.org/simple, https://us-python.pkg.dev/colab-wheels/public/simple/\n",
            "Requirement already satisfied: xgboost in /usr/local/lib/python3.7/dist-packages (0.90)\n",
            "Requirement already satisfied: numpy in /usr/local/lib/python3.7/dist-packages (from xgboost) (1.21.6)\n",
            "Requirement already satisfied: scipy in /usr/local/lib/python3.7/dist-packages (from xgboost) (1.7.3)\n"
          ]
        }
      ],
      "source": [
        "# Install once.\n",
        "! pip install xgboost"
      ]
    },
    {
      "cell_type": "code",
      "execution_count": 41,
      "metadata": {
        "id": "koT9ixmbTPg5"
      },
      "outputs": [],
      "source": [
        "import numpy as np\n",
        "import pandas as pd\n",
        "import warnings \n",
        "import seaborn as sns\n",
        "import matplotlib.pyplot as plt\n",
        "from sklearn.model_selection import train_test_split,GridSearchCV\n",
        "from sklearn.tree import DecisionTreeClassifier\n",
        "from sklearn.ensemble import RandomForestClassifier,AdaBoostClassifier, GradientBoostingClassifier\n",
        "from xgboost import XGBClassifier\n",
        "from sklearn import metrics\n",
        "from sklearn.datasets import load_breast_cancer\n",
        "warnings.filterwarnings(action='ignore') \n",
        "from sklearn.model_selection import RandomizedSearchCV                 # Turn off the warnings."
      ]
    },
    {
      "cell_type": "markdown",
      "metadata": {
        "id": "S6OUcuElTPg6"
      },
      "source": [
        "#### 1.1. Read in data:"
      ]
    },
    {
      "cell_type": "code",
      "execution_count": 42,
      "metadata": {
        "id": "feD1mFGKTPg6"
      },
      "outputs": [],
      "source": [
        "# Load data.\n",
        "data = load_breast_cancer()"
      ]
    },
    {
      "cell_type": "code",
      "execution_count": 43,
      "metadata": {
        "id": "6JYOVkJSTPg7",
        "colab": {
          "base_uri": "https://localhost:8080/"
        },
        "outputId": "b71f7024-90ca-46c0-bed4-ed350b3af99e"
      },
      "outputs": [
        {
          "output_type": "stream",
          "name": "stdout",
          "text": [
            "['mean radius' 'mean texture' 'mean perimeter' 'mean area'\n",
            " 'mean smoothness' 'mean compactness' 'mean concavity'\n",
            " 'mean concave points' 'mean symmetry' 'mean fractal dimension'\n",
            " 'radius error' 'texture error' 'perimeter error' 'area error'\n",
            " 'smoothness error' 'compactness error' 'concavity error'\n",
            " 'concave points error' 'symmetry error' 'fractal dimension error'\n",
            " 'worst radius' 'worst texture' 'worst perimeter' 'worst area'\n",
            " 'worst smoothness' 'worst compactness' 'worst concavity'\n",
            " 'worst concave points' 'worst symmetry' 'worst fractal dimension']\n"
          ]
        }
      ],
      "source": [
        "# Explanatory variables.\n",
        "X = data.data\n",
        "variable_names = data.feature_names\n",
        "print(variable_names)"
      ]
    },
    {
      "cell_type": "code",
      "execution_count": 44,
      "metadata": {
        "id": "LTrymB5gTPg8",
        "colab": {
          "base_uri": "https://localhost:8080/"
        },
        "outputId": "16b7981a-3c8c-4c40-c60f-33a350d0bdfd"
      },
      "outputs": [
        {
          "output_type": "execute_result",
          "data": {
            "text/plain": [
              "(569, 30)"
            ]
          },
          "metadata": {},
          "execution_count": 44
        }
      ],
      "source": [
        "X.shape"
      ]
    },
    {
      "cell_type": "code",
      "execution_count": 45,
      "metadata": {
        "id": "t5Un0vi7TPg8",
        "colab": {
          "base_uri": "https://localhost:8080/"
        },
        "outputId": "d0f7f338-925f-460c-e88a-2b5a5be3f504"
      },
      "outputs": [
        {
          "output_type": "stream",
          "name": "stdout",
          "text": [
            "['benign', 'malignant']\n"
          ]
        }
      ],
      "source": [
        "# Response variable.\n",
        "# Relabel such that 0 = 'benign' and 1 = malignant.\n",
        "Y = 1 - data['target']\n",
        "label = list(data['target_names'])\n",
        "label.reverse()\n",
        "print(label)"
      ]
    },
    {
      "cell_type": "code",
      "execution_count": 46,
      "metadata": {
        "id": "SP7f67GwTPg-",
        "colab": {
          "base_uri": "https://localhost:8080/"
        },
        "outputId": "1e315ae6-267c-4a7f-95dc-0a9e72dd300b"
      },
      "outputs": [
        {
          "output_type": "execute_result",
          "data": {
            "text/plain": [
              "((398, 30), (171, 30), (398,), (171,))"
            ]
          },
          "metadata": {},
          "execution_count": 46
        }
      ],
      "source": [
        "#Split with test_size=0.3, random_state=1234\n",
        "\n",
        "X_train, X_test, Y_train,Y_test=train_test_split(X,Y, test_size=0.3, random_state=1234)\n",
        "X_train.shape,X_test.shape, Y_train.shape, Y_test.shape"
      ]
    },
    {
      "cell_type": "markdown",
      "metadata": {
        "id": "0g4PAflkTPg_"
      },
      "source": [
        "#### 1.2. Random Forest:"
      ]
    },
    {
      "cell_type": "code",
      "execution_count": 47,
      "metadata": {
        "id": "bUUpJ1d1TPg_",
        "colab": {
          "base_uri": "https://localhost:8080/"
        },
        "outputId": "c01b4006-491f-4369-b468-a9c80a5e59d6"
      },
      "outputs": [
        {
          "output_type": "stream",
          "name": "stdout",
          "text": [
            "Random Forest accuracy : 0.9239766081871345\n"
          ]
        }
      ],
      "source": [
        "# Classification by Random Forest.\n",
        "#n_estimators=100, and for other parameters CHOOOOSE\n",
        "RFC = RandomForestClassifier(n_estimators=100,criterion='entropy')\n",
        "#Train part\n",
        "model=RFC.fit(X_train,Y_train)\n",
        "#Predict\n",
        "Y_pred =RFC.predict(X_test)\n",
        "\n",
        "#Accuracy\n",
        "print( f\"Random Forest accuracy : {metrics.accuracy_score(Y_test,Y_pred)}\" )"
      ]
    },
    {
      "cell_type": "code",
      "execution_count": 48,
      "metadata": {
        "id": "JXOJrLfATPhA",
        "colab": {
          "base_uri": "https://localhost:8080/",
          "height": 727
        },
        "outputId": "303f440f-3c65-4b05-e411-bcaa04ee080b"
      },
      "outputs": [
        {
          "output_type": "stream",
          "name": "stdout",
          "text": [
            "mean concave points     0.145497\n",
            "worst concave points    0.143960\n",
            "worst perimeter         0.128216\n",
            "worst radius            0.103382\n",
            "worst area              0.066970\n",
            "worst concavity         0.047521\n",
            "mean concavity          0.042179\n",
            "mean radius             0.041838\n",
            "area error              0.039469\n",
            "mean perimeter          0.030448\n",
            "dtype: float64\n"
          ]
        },
        {
          "output_type": "execute_result",
          "data": {
            "text/plain": [
              "[Text(0, 0, 'mean concave points'),\n",
              " Text(0, 0, 'worst concave points'),\n",
              " Text(0, 0, 'worst perimeter'),\n",
              " Text(0, 0, 'worst radius'),\n",
              " Text(0, 0, 'worst area'),\n",
              " Text(0, 0, 'worst concavity'),\n",
              " Text(0, 0, 'mean concavity'),\n",
              " Text(0, 0, 'mean radius'),\n",
              " Text(0, 0, 'area error'),\n",
              " Text(0, 0, 'mean perimeter')]"
            ]
          },
          "metadata": {},
          "execution_count": 48
        },
        {
          "output_type": "display_data",
          "data": {
            "text/plain": [
              "<Figure size 432x288 with 1 Axes>"
            ],
            "image/png": "[encoded data removed]"
          },
          "metadata": {
            "needs_background": "light"
          }
        }
      ],
      "source": [
        "# Display the top 10 most important variables.\n",
        "variable_importance = pd.Series(RFC.feature_importances_, index = variable_names)\n",
        "top_variables_10 = variable_importance.sort_values(ascending=False)[:10]\n",
        "print(top_variables_10)\n",
        "\n",
        "#Using a bar plot\n",
        "sns.barplot(x=top_variables_10,y=variable_importance).set_xticklabels(top_variables_10.index,rotation='vertical', fontsize=10)"
      ]
    },
    {
      "cell_type": "markdown",
      "metadata": {
        "id": "dJoQ2qgCTPhA"
      },
      "source": [
        "### 2. Boosting Ensemble:"
      ]
    },
    {
      "cell_type": "markdown",
      "metadata": {
        "id": "xbkISUo5TPhA"
      },
      "source": [
        "#### 2.1.  AdaBoost:"
      ]
    },
    {
      "cell_type": "code",
      "execution_count": 49,
      "metadata": {
        "id": "U2XixEtpTPhB",
        "colab": {
          "base_uri": "https://localhost:8080/"
        },
        "outputId": "03abb0ad-6f0e-4581-9dab-343f99184c1f"
      },
      "outputs": [
        {
          "output_type": "stream",
          "name": "stdout",
          "text": [
            "AdaBoost accuracy : 0.953\n"
          ]
        }
      ],
      "source": [
        "# Classification by AdaBoost.\n",
        "#(max_depth=10), n_estimators=100\n",
        "ABC = AdaBoostClassifier(n_estimators=100, learning_rate=0.27) #This learning rate value gives the best accuracy\n",
        "#Train part\n",
        "model=ABC.fit(X_train,Y_train)\n",
        "#Prediction\n",
        "Y_pred = ABC.predict(X_test)\n",
        "\n",
        "#Accuracy\n",
        "print( \"AdaBoost accuracy : \" + str(np.round(metrics.accuracy_score(Y_test,Y_pred),3)))"
      ]
    },
    {
      "cell_type": "code",
      "execution_count": 50,
      "metadata": {
        "id": "344odFXlTPhB",
        "colab": {
          "base_uri": "https://localhost:8080/",
          "height": 484
        },
        "outputId": "bfc34bb8-668e-4518-a1a3-3428e59b40e3"
      },
      "outputs": [
        {
          "output_type": "execute_result",
          "data": {
            "text/plain": [
              "[Text(0, 0, 'mean texture'),\n",
              " Text(0, 0, 'worst area'),\n",
              " Text(0, 0, 'worst concave points'),\n",
              " Text(0, 0, 'worst texture'),\n",
              " Text(0, 0, 'worst perimeter'),\n",
              " Text(0, 0, 'worst smoothness'),\n",
              " Text(0, 0, 'mean concave points')]"
            ]
          },
          "metadata": {},
          "execution_count": 50
        },
        {
          "output_type": "display_data",
          "data": {
            "text/plain": [
              "<Figure size 432x288 with 1 Axes>"
            ],
            "image/png": "[encoded data removed]"
          },
          "metadata": {
            "needs_background": "light"
          }
        }
      ],
      "source": [
        "# Display the top 10 most important variables.\n",
        "variable_importance = pd.Series(ABC.feature_importances_, index = variable_names)\n",
        "top_variables_10 = variable_importance.sort_values(ascending=False)[:10]\n",
        "\n",
        "\n",
        "#Using a bar plot\n",
        "sns.barplot(x=top_variables_10,y=variable_importance).set_xticklabels(top_variables_10.index,rotation='vertical', fontsize=10)\n"
      ]
    },
    {
      "cell_type": "markdown",
      "metadata": {
        "id": "TqvI39AXTPhB"
      },
      "source": [
        "#### 2.2.  Gradient Boosting:"
      ]
    },
    {
      "cell_type": "code",
      "execution_count": 51,
      "metadata": {
        "id": "kgLdYZZATPhB",
        "colab": {
          "base_uri": "https://localhost:8080/"
        },
        "outputId": "28e37cc4-77b7-4d5b-972f-a853e5c261fe"
      },
      "outputs": [
        {
          "output_type": "stream",
          "name": "stdout",
          "text": [
            "Gradient Boosting accuracy :0.912\n"
          ]
        }
      ],
      "source": [
        "# Classification by Gradient Boosting.\n",
        "#n_estimators=10, for otrher parameters choose\n",
        "GBC = GradientBoostingClassifier(n_estimators=10, learning_rate=0.27)\n",
        "\n",
        "#Train part\n",
        "model=GBC.fit(X_train,Y_train)\n",
        "#Predict\n",
        "Y_pred = GBC.predict(X_test)\n",
        "\n",
        "#Accuracy\n",
        "print( \"Gradient Boosting accuracy :\" + str(np.round(metrics.accuracy_score(Y_test,Y_pred),3)) )"
      ]
    },
    {
      "cell_type": "code",
      "execution_count": 52,
      "metadata": {
        "id": "j45LCwk5TPhC",
        "colab": {
          "base_uri": "https://localhost:8080/",
          "height": 547
        },
        "outputId": "83a8dd0f-23e2-454a-d527-5d3f15b9f73d"
      },
      "outputs": [
        {
          "output_type": "execute_result",
          "data": {
            "text/plain": [
              "[Text(0, 0, 'worst concave points'),\n",
              " Text(0, 0, 'mean concave points'),\n",
              " Text(0, 0, 'worst perimeter'),\n",
              " Text(0, 0, 'worst area'),\n",
              " Text(0, 0, 'worst texture'),\n",
              " Text(0, 0, 'worst radius'),\n",
              " Text(0, 0, 'area error'),\n",
              " Text(0, 0, 'worst smoothness'),\n",
              " Text(0, 0, 'worst fractal dimension'),\n",
              " Text(0, 0, 'mean texture')]"
            ]
          },
          "metadata": {},
          "execution_count": 52
        },
        {
          "output_type": "display_data",
          "data": {
            "text/plain": [
              "<Figure size 432x288 with 1 Axes>"
            ],
            "image/png": "[encoded data removed]"
          },
          "metadata": {
            "needs_background": "light"
          }
        }
      ],
      "source": [
        "# Display the top 10 most important variables.\n",
        "variable_importance = pd.Series(GBC.feature_importances_, index = variable_names)\n",
        "top_variables_10 = variable_importance.sort_values(ascending=False)[:10]\n",
        "\n",
        "\n",
        "#Using a bar plot\n",
        "sns.barplot(x=top_variables_10,y=variable_importance).set_xticklabels(top_variables_10.index,rotation='vertical', fontsize=10)\n"
      ]
    },
    {
      "cell_type": "markdown",
      "metadata": {
        "id": "vve_X35mTPhC"
      },
      "source": [
        "#### 2.3. XGBoost:"
      ]
    },
    {
      "cell_type": "code",
      "execution_count": 53,
      "metadata": {
        "id": "42kCc3EYTPhD",
        "colab": {
          "base_uri": "https://localhost:8080/"
        },
        "outputId": "168d5caa-3f74-4532-947b-293f75b919aa"
      },
      "outputs": [
        {
          "output_type": "stream",
          "name": "stdout",
          "text": [
            "XGBoost accuracy : 0.942\n"
          ]
        }
      ],
      "source": [
        "# Classification by XGBoost.\n",
        "#n_estimator = 500 for other parameters choose\n",
        "XGBC = XGBClassifier(n_estimator=500, learning_rate=0.27)\n",
        "\n",
        "#Train part\n",
        "model=XGBC.fit(X_train, Y_train)\n",
        "#Predict \n",
        "Y_pred = XGBC.predict(X_test)\n",
        "\n",
        "#Accuracy\n",
        "print( \"XGBoost accuracy : \"+ str(np.round(metrics.accuracy_score(Y_test,Y_pred),3)) )"
      ]
    },
    {
      "cell_type": "code",
      "execution_count": 54,
      "metadata": {
        "id": "RshtlyzkTPhD",
        "colab": {
          "base_uri": "https://localhost:8080/",
          "height": 547
        },
        "outputId": "e66f4538-098a-4d3a-936f-a36a704bf513"
      },
      "outputs": [
        {
          "output_type": "execute_result",
          "data": {
            "text/plain": [
              "[Text(0, 0, 'mean concave points'),\n",
              " Text(0, 0, 'worst perimeter'),\n",
              " Text(0, 0, 'worst concave points'),\n",
              " Text(0, 0, 'worst radius'),\n",
              " Text(0, 0, 'worst fractal dimension'),\n",
              " Text(0, 0, 'worst area'),\n",
              " Text(0, 0, 'mean concavity'),\n",
              " Text(0, 0, 'worst concavity'),\n",
              " Text(0, 0, 'worst texture'),\n",
              " Text(0, 0, 'area error')]"
            ]
          },
          "metadata": {},
          "execution_count": 54
        },
        {
          "output_type": "display_data",
          "data": {
            "text/plain": [
              "<Figure size 432x288 with 1 Axes>"
            ],
            "image/png": "[encoded data removed]"
          },
          "metadata": {
            "needs_background": "light"
          }
        }
      ],
      "source": [
        "# Display the top 10 most important variables.\n",
        "variable_importance = pd.Series(XGBC.feature_importances_, index = variable_names)\n",
        "top_variables_10 = variable_importance.sort_values(ascending=False)[:10]\n",
        "\n",
        "\n",
        "#Using a bar plot\n",
        "sns.barplot(x=top_variables_10,y=variable_importance).set_xticklabels(top_variables_10.index,rotation='vertical', fontsize=10)\n"
      ]
    },
    {
      "cell_type": "markdown",
      "metadata": {
        "id": "A1SrlIEJTPhD"
      },
      "source": [
        "NOTE: The hyperparameters of XGBClassifier can be optimized using GridSearchCV() and RandomSearchCV(). Students are encouraged to explore. "
      ]
    },
    {
      "cell_type": "code",
      "execution_count": 55,
      "metadata": {
        "id": "3sfQacVnTPhD",
        "colab": {
          "base_uri": "https://localhost:8080/"
        },
        "outputId": "6c270bd1-b976-4f2e-9758-5a351b99057b"
      },
      "outputs": [
        {
          "output_type": "stream",
          "name": "stdout",
          "text": [
            "Fitting 5 folds for each of 54 candidates, totalling 270 fits\n",
            "Best parameters: {'colsample_bytree': 0.3, 'learning_rate': 0.05, 'max_depth': 6, 'n_estimators': 500}\n",
            "Lowest RMSE:  0.14186818628036735\n"
          ]
        }
      ],
      "source": [
        "#GridSearch\n",
        "params = { 'max_depth': [3,6,10],\n",
        "           'learning_rate': [0.01, 0.05, 0.1],\n",
        "           'n_estimators': [100, 500, 1000],\n",
        "           'colsample_bytree': [0.3, 0.7]}\n",
        "xgbc = XGBClassifier()\n",
        "clf = GridSearchCV(estimator=xgbr, \n",
        "                   param_grid=params,\n",
        "                   scoring='neg_mean_squared_error', \n",
        "                   verbose=1)\n",
        "clf.fit(X_train, Y_train)\n",
        "print(\"Best parameters:\", clf.best_params_)\n",
        "print(\"Lowest RMSE: \", (-clf.best_score_)**(1/2.0))\n"
      ]
    },
    {
      "cell_type": "code",
      "source": [
        "params = { 'max_depth': [3, 5, 6, 10, 15, 20],\n",
        "           'learning_rate': [0.01, 0.1, 0.2, 0.3],\n",
        "           'subsample': np.arange(0.5, 1.0, 0.1),\n",
        "           'colsample_bytree': np.arange(0.4, 1.0, 0.1),\n",
        "           'colsample_bylevel': np.arange(0.4, 1.0, 0.1),\n",
        "           'n_estimators': [100, 500, 1000]}\n",
        "xgbc = XGBClassifier()\n",
        "clf = RandomizedSearchCV(estimator=xgbr,\n",
        "                         param_distributions=params,\n",
        "                         n_iter=25,\n",
        "                         verbose=1)\n",
        "clf.fit(X_train, Y_train)\n",
        "print(\"Best parameters:\", clf.best_params_)\n"
      ],
      "metadata": {
        "colab": {
          "base_uri": "https://localhost:8080/"
        },
        "id": "dftDgb4kciZM",
        "outputId": "cafac74d-de36-4c88-f2aa-8a6f4d49417a"
      },
      "execution_count": 58,
      "outputs": [
        {
          "output_type": "stream",
          "name": "stdout",
          "text": [
            "Fitting 5 folds for each of 25 candidates, totalling 125 fits\n",
            "Best parameters: {'subsample': 0.5, 'n_estimators': 1000, 'max_depth': 15, 'learning_rate': 0.2, 'colsample_bytree': 0.8999999999999999, 'colsample_bylevel': 0.6}\n"
          ]
        }
      ]
    }
  ],
  "metadata": {
    "kernelspec": {
      "display_name": "Python 3",
      "language": "python",
      "name": "python3"
    },
    "language_info": {
      "codemirror_mode": {
        "name": "ipython",
        "version": 3
      },
      "file_extension": ".py",
      "mimetype": "text/x-python",
      "name": "python",
      "nbconvert_exporter": "python",
      "pygments_lexer": "ipython3",
      "version": "3.8.8"
    },
    "colab": {
      "provenance": [],
      "collapsed_sections": []
    }
  },
  "nbformat": 4,
  "nbformat_minor": 0
}