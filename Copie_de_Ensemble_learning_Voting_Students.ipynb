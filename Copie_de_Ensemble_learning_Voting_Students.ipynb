{
  "nbformat": 4,
  "nbformat_minor": 0,
  "metadata": {
    "colab": {
      "provenance": [],
      "collapsed_sections": [
        "3u6rlBAO9I5X",
        "99vFFuNK9I5s",
        "3pDpKvwM9I5u"
      ]
    },
    "kernelspec": {
      "display_name": "Python 3",
      "language": "python",
      "name": "python3"
    },
    "language_info": {
      "codemirror_mode": {
        "name": "ipython",
        "version": 3
      },
      "file_extension": ".py",
      "mimetype": "text/x-python",
      "name": "python",
      "nbconvert_exporter": "python",
      "pygments_lexer": "ipython3",
      "version": "3.7.0"
    },
    "toc": {
      "base_numbering": 1,
      "nav_menu": {},
      "number_sections": true,
      "sideBar": true,
      "skip_h1_title": false,
      "title_cell": "Table of Contents",
      "title_sidebar": "Contents",
      "toc_cell": false,
      "toc_position": {},
      "toc_section_display": true,
      "toc_window_display": false
    },
    "varInspector": {
      "cols": {
        "lenName": 16,
        "lenType": 16,
        "lenVar": 40
      },
      "kernels_config": {
        "python": {
          "delete_cmd_postfix": "",
          "delete_cmd_prefix": "del ",
          "library": "var_list.py",
          "varRefreshCmd": "print(var_dic_list())"
        },
        "r": {
          "delete_cmd_postfix": ") ",
          "delete_cmd_prefix": "rm(",
          "library": "var_list.r",
          "varRefreshCmd": "cat(var_dic_list()) "
        }
      },
      "types_to_exclude": [
        "module",
        "function",
        "builtin_function_or_method",
        "instance",
        "_Feature"
      ],
      "window_display": false
    }
  },
  "cells": [
    {
      "cell_type": "markdown",
      "metadata": {
        "id": "bcD3EN8-9I5S"
      },
      "source": [
        "### 1. Voting Ensemble:"
      ]
    },
    {
      "cell_type": "code",
      "metadata": {
        "id": "UN4ieJLx9I5V"
      },
      "source": [
        "import numpy as np\n",
        "import pandas as pd\n",
        "import warnings\n",
        "from sklearn.model_selection import train_test_split\n",
        "from sklearn.tree import DecisionTreeClassifier\n",
        "from sklearn.neighbors import KNeighborsClassifier\n",
        "from sklearn.linear_model import LogisticRegression\n",
        "from sklearn.ensemble import VotingClassifier\n",
        "from sklearn import metrics\n",
        "from sklearn.datasets import load_breast_cancer\n",
        "warnings.filterwarnings(action='ignore')                  # Turn off the warnings."
      ],
      "execution_count": 35,
      "outputs": []
    },
    {
      "cell_type": "markdown",
      "metadata": {
        "id": "3u6rlBAO9I5X"
      },
      "source": [
        "#### 1.1. Read in data:"
      ]
    },
    {
      "cell_type": "code",
      "metadata": {
        "id": "TMacGbG69I5f",
        "colab": {
          "base_uri": "https://localhost:8080/"
        },
        "outputId": "2fadb05d-f58a-4d14-dff5-e9c14508a480"
      },
      "source": [
        "# Load data.\n",
        "data = load_breast_cancer()\n",
        "data.data\n"
      ],
      "execution_count": 36,
      "outputs": [
        {
          "output_type": "execute_result",
          "data": {
            "text/plain": [
              "array([[1.799e+01, 1.038e+01, 1.228e+02, ..., 2.654e-01, 4.601e-01,\n",
              "        1.189e-01],\n",
              "       [2.057e+01, 1.777e+01, 1.329e+02, ..., 1.860e-01, 2.750e-01,\n",
              "        8.902e-02],\n",
              "       [1.969e+01, 2.125e+01, 1.300e+02, ..., 2.430e-01, 3.613e-01,\n",
              "        8.758e-02],\n",
              "       ...,\n",
              "       [1.660e+01, 2.808e+01, 1.083e+02, ..., 1.418e-01, 2.218e-01,\n",
              "        7.820e-02],\n",
              "       [2.060e+01, 2.933e+01, 1.401e+02, ..., 2.650e-01, 4.087e-01,\n",
              "        1.240e-01],\n",
              "       [7.760e+00, 2.454e+01, 4.792e+01, ..., 0.000e+00, 2.871e-01,\n",
              "        7.039e-02]])"
            ]
          },
          "metadata": {},
          "execution_count": 36
        }
      ]
    },
    {
      "cell_type": "code",
      "metadata": {
        "id": "MaHCvszu9I5i",
        "colab": {
          "base_uri": "https://localhost:8080/"
        },
        "outputId": "e1617b12-60ec-4a94-e71b-9990abe62750"
      },
      "source": [
        "# Explanatory variables.\n",
        "X = data.data\n",
        "#Print feature names\n",
        "print(data.feature_names)"
      ],
      "execution_count": 37,
      "outputs": [
        {
          "output_type": "stream",
          "name": "stdout",
          "text": [
            "['mean radius' 'mean texture' 'mean perimeter' 'mean area'\n",
            " 'mean smoothness' 'mean compactness' 'mean concavity'\n",
            " 'mean concave points' 'mean symmetry' 'mean fractal dimension'\n",
            " 'radius error' 'texture error' 'perimeter error' 'area error'\n",
            " 'smoothness error' 'compactness error' 'concavity error'\n",
            " 'concave points error' 'symmetry error' 'fractal dimension error'\n",
            " 'worst radius' 'worst texture' 'worst perimeter' 'worst area'\n",
            " 'worst smoothness' 'worst compactness' 'worst concavity'\n",
            " 'worst concave points' 'worst symmetry' 'worst fractal dimension']\n"
          ]
        }
      ]
    },
    {
      "cell_type": "code",
      "metadata": {
        "id": "bukJKyKJ9I5k",
        "colab": {
          "base_uri": "https://localhost:8080/"
        },
        "outputId": "9d3c154b-4687-4cc1-a299-6b86a667d047"
      },
      "source": [
        "X.shape"
      ],
      "execution_count": 38,
      "outputs": [
        {
          "output_type": "execute_result",
          "data": {
            "text/plain": [
              "(569, 30)"
            ]
          },
          "metadata": {},
          "execution_count": 38
        }
      ]
    },
    {
      "cell_type": "code",
      "metadata": {
        "id": "GJmzxSS59I5n",
        "colab": {
          "base_uri": "https://localhost:8080/"
        },
        "outputId": "48ed4446-4249-450a-b339-5677b79b0067"
      },
      "source": [
        "# Response variable.\n",
        "# Relabel such that 0 = 'benign' and 1 = malignant.\n",
        "Y = 1 - data['target']\n",
        "label = list(data['target_names'])\n",
        "label.reverse()\n",
        "print(label)"
      ],
      "execution_count": 39,
      "outputs": [
        {
          "output_type": "stream",
          "name": "stdout",
          "text": [
            "['benign', 'malignant']\n"
          ]
        }
      ]
    },
    {
      "cell_type": "code",
      "metadata": {
        "id": "5u5LbN3-9I5q",
        "colab": {
          "base_uri": "https://localhost:8080/"
        },
        "outputId": "24d33fee-2035-4b0b-fd2f-6ac1106a32e4"
      },
      "source": [
        "#Split with test_size=0.3, random_state=1234\n",
        "X_train, X_test, Y_train,Y_test=train_test_split(X,Y, test_size=0.3, random_state=1234)\n",
        "X_train.shape,X_test.shape, Y_train.shape, Y_test.shape"
      ],
      "execution_count": 40,
      "outputs": [
        {
          "output_type": "execute_result",
          "data": {
            "text/plain": [
              "((398, 30), (171, 30), (398,), (171,))"
            ]
          },
          "metadata": {},
          "execution_count": 40
        }
      ]
    },
    {
      "cell_type": "markdown",
      "metadata": {
        "id": "99vFFuNK9I5s"
      },
      "source": [
        "#### 1.2. Predicting with individual estimator:\n",
        "\n",
        "\n",
        "Question 1 : Use Decision tree with max_depth=10, KNN with k = 5 and Logistic Regression to classify your data."
      ]
    },
    {
      "cell_type": "code",
      "metadata": {
        "id": "YGyRZM2N9I5t",
        "colab": {
          "base_uri": "https://localhost:8080/"
        },
        "outputId": "6eff2fc3-a629-4b16-8d8b-813c40b1d384"
      },
      "source": [
        "# Classification Tree.\n",
        "tree = DecisionTreeClassifier(max_depth=10)\n",
        "\n",
        "#Train part\n",
        "model=tree.fit(X_train,Y_train)\n",
        "#Prediction\n",
        "Y_pred = model.predict(X_test)\n",
        "print( f\"Tree accuracy : {metrics.accuracy_score(Y_test,Y_pred)}\" )"
      ],
      "execution_count": 41,
      "outputs": [
        {
          "output_type": "stream",
          "name": "stdout",
          "text": [
            "Tree accuracy : 0.9298245614035088\n"
          ]
        }
      ]
    },
    {
      "cell_type": "code",
      "metadata": {
        "id": "A6xyG89Q9I5t",
        "colab": {
          "base_uri": "https://localhost:8080/"
        },
        "outputId": "be68d0af-5957-434b-a8e3-cd3e9afb0035"
      },
      "source": [
        "# Classification with KNN\n",
        "knn = KNeighborsClassifier(n_neighbors=5)\n",
        "\n",
        "#Train part\n",
        "model2=knn.fit(X_train, Y_train)\n",
        "#Prediction\n",
        "Y_pred = model2.predict(X_test)\n",
        "\n",
        "#Accuracy\n",
        "print(f\"KNN accuracy: {metrics.accuracy_score(Y_test,Y_pred)} \" )"
      ],
      "execution_count": 42,
      "outputs": [
        {
          "output_type": "stream",
          "name": "stdout",
          "text": [
            "KNN accuracy: 0.935672514619883 \n"
          ]
        }
      ]
    },
    {
      "cell_type": "code",
      "metadata": {
        "id": "NT1XJXFE9I5u",
        "colab": {
          "base_uri": "https://localhost:8080/"
        },
        "outputId": "7c2eb522-a309-45d0-d9b3-158e2cc98e99"
      },
      "source": [
        "# Classification with Logistic Regression.\n",
        "lg = LogisticRegression()\n",
        "\n",
        "#Train part\n",
        "model3=lg.fit(X_train, Y_train)\n",
        "#Prediction\n",
        "Y_pred = lg.predict(X_test)\n",
        "\n",
        "#Accuracy\n",
        "print( f\"Logistic Reg accuracy : {metrics.accuracy_score(Y_test,Y_pred)}\" )"
      ],
      "execution_count": 43,
      "outputs": [
        {
          "output_type": "stream",
          "name": "stdout",
          "text": [
            "Logistic Reg accuracy : 0.9239766081871345\n"
          ]
        }
      ]
    },
    {
      "cell_type": "markdown",
      "metadata": {
        "id": "3pDpKvwM9I5u"
      },
      "source": [
        "#### 1.3. Predicting with a voting ensemble:\n",
        "\n",
        "The EnsembleVoteClassifier is a meta-classifier for combining similar or conceptually different machine learning classifiers for classification via majority or plurality voting.In hard voting, we predict the final class label as the class label that has been predicted most frequently by the classification models\n",
        "\n",
        "Question:  \n",
        "\n",
        "- Use VotingClassifier () ensemble method with DTC, KNN, LR set voting to hard, then fit your training data. (hint : consider using the  `estimator` parameter )\n",
        "\n",
        "- Use VotingClassifier () ensemble method with DTC, KNN, LR set voting to soft, then fit your training data. \n",
        "\n",
        "-Compare the two results.\n",
        "\n",
        "\n",
        "https://www.geeksforgeeks.org/ml-voting-classifier-using-sklearn/"
      ]
    },
    {
      "cell_type": "code",
      "metadata": {
        "id": "QWR8dWqg9I5v",
        "colab": {
          "base_uri": "https://localhost:8080/"
        },
        "outputId": "a5db434b-49dc-46ad-b1a7-a4ba5d16c9fa"
      },
      "source": [
        "#Hard voting\n",
        "VC = VotingClassifier(estimators=[('knn',knn),('lg',lg),('tree',tree)], voting='hard')\n",
        "\n",
        "#Train part\n",
        "model4=VC.fit(X_train,Y_train)\n",
        "#Prediction\n",
        "Y_pred = VC.predict(X_test)\n",
        "\n",
        "#Accuracy\n",
        "print( f\"Voting Classifier Accuracy  using hard strategy : {metrics.accuracy_score(Y_test,Y_pred)}\" )"
      ],
      "execution_count": 44,
      "outputs": [
        {
          "output_type": "stream",
          "name": "stdout",
          "text": [
            "Voting Classifier Accuracy  using hard strategy : 0.9532163742690059\n"
          ]
        }
      ]
    },
    {
      "cell_type": "code",
      "metadata": {
        "id": "k7UZuHpe9I5v",
        "colab": {
          "base_uri": "https://localhost:8080/"
        },
        "outputId": "6cc4a3f2-bdbd-487d-984b-5779973a5790"
      },
      "source": [
        "#Soft voting\n",
        "VC =VotingClassifier(estimators=[('knn',knn),('lg',lg),('tree',tree)], voting='soft')\n",
        "\n",
        "#Train part\n",
        "model4=VC.fit(X_train,Y_train)\n",
        "\n",
        "#Prediction\n",
        "Y_pred = VC.predict(X_test)\n",
        "#Accuracy\n",
        "print( f\"Voting Classifier Accuracy using soft strategy :{metrics.accuracy_score(Y_test,Y_pred)} \" )"
      ],
      "execution_count": 47,
      "outputs": [
        {
          "output_type": "stream",
          "name": "stdout",
          "text": [
            "Voting Classifier Accuracy using soft strategy :0.9473684210526315 \n"
          ]
        }
      ]
    },
    {
      "cell_type": "markdown",
      "source": [
        "Draw a conclusion !"
      ],
      "metadata": {
        "id": "JFFkrPwKaUX7"
      }
    },
    {
      "cell_type": "markdown",
      "source": [
        "Ensemble methods bring together the results of two or more separate machine learning algorithm in an attempt to produce a collective result that is more accurate than any of the individual algorithms.\n",
        "In soft voting the probabilities of each of the classes are averaged to produce a result. \n",
        "In hard voting the predictions of each algorithm are considered with the ensemble selecting the class with the highest number of votes."
      ],
      "metadata": {
        "id": "n__L2EOiTDct"
      }
    }
  ]
}